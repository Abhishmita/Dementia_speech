{
  "nbformat": 4,
  "nbformat_minor": 0,
  "metadata": {
    "colab": {
      "name": "Alzheimer_Classification.ipynb",
      "provenance": [],
      "collapsed_sections": [],
      "machine_shape": "hm"
    },
    "kernelspec": {
      "name": "python3",
      "display_name": "Python 3"
    },
    "accelerator": "GPU"
  },
  "cells": [
    {
      "cell_type": "code",
      "metadata": {
        "id": "OnwVoYuKwcI2",
        "colab_type": "code",
        "colab": {}
      },
      "source": [
        "from google.colab import drive\n",
        "drive.mount('/content/drive')"
      ],
      "execution_count": null,
      "outputs": []
    },
    {
      "cell_type": "markdown",
      "metadata": {
        "id": "DPHpUlBOwlB6",
        "colab_type": "text"
      },
      "source": [
        "**Importing the libraries.**"
      ]
    },
    {
      "cell_type": "code",
      "metadata": {
        "id": "7QvX3cdyLW8y",
        "colab_type": "code",
        "colab": {}
      },
      "source": [
        "#For display.\n",
        "%matplotlib inline "
      ],
      "execution_count": null,
      "outputs": []
    },
    {
      "cell_type": "code",
      "metadata": {
        "id": "40HnZ68MwX-Q",
        "colab_type": "code",
        "colab": {}
      },
      "source": [
        "# For GPU proecessing.\n",
        "import torch "
      ],
      "execution_count": null,
      "outputs": []
    },
    {
      "cell_type": "code",
      "metadata": {
        "id": "828GMdtkidE8",
        "colab_type": "code",
        "colab": {}
      },
      "source": [
        "import tensorflow as tf"
      ],
      "execution_count": null,
      "outputs": []
    },
    {
      "cell_type": "code",
      "metadata": {
        "id": "iC_7AkPyFHi1",
        "colab_type": "code",
        "colab": {}
      },
      "source": [
        "!curl -s https://course.fast.ai/setup/colab | bash\n",
        "!pip install git+https://github.com/mogwai/fastai_audio.git@0.1"
      ],
      "execution_count": null,
      "outputs": []
    },
    {
      "cell_type": "code",
      "metadata": {
        "id": "7sWzADl3FPPV",
        "colab_type": "code",
        "colab": {}
      },
      "source": [
        "from torchvision.models import resnet34, resnet50 #Deep Learning models"
      ],
      "execution_count": null,
      "outputs": []
    },
    {
      "cell_type": "code",
      "metadata": {
        "id": "i9BtdRS7OYW-",
        "colab_type": "code",
        "colab": {}
      },
      "source": [
        "import torchaudio "
      ],
      "execution_count": null,
      "outputs": []
    },
    {
      "cell_type": "code",
      "metadata": {
        "id": "1seETl_b-5Xy",
        "colab_type": "code",
        "colab": {}
      },
      "source": [
        "from torchaudio import transforms"
      ],
      "execution_count": null,
      "outputs": []
    },
    {
      "cell_type": "code",
      "metadata": {
        "id": "VzOqa0D8nf8H",
        "colab_type": "code",
        "colab": {}
      },
      "source": [
        "from IPython.display import Audio"
      ],
      "execution_count": null,
      "outputs": []
    },
    {
      "cell_type": "code",
      "metadata": {
        "id": "0mL_YKq4XxLn",
        "colab_type": "code",
        "colab": {}
      },
      "source": [
        "import numpy as np\n"
      ],
      "execution_count": null,
      "outputs": []
    },
    {
      "cell_type": "code",
      "metadata": {
        "id": "ar9Zr6-u9Pd4",
        "colab_type": "code",
        "colab": {}
      },
      "source": [
        "# For Processing the audio.\n",
        "import fastai\n",
        "from fastai.imports import *\n",
        "from fastai.basics import *\n",
        "from fastai.metrics import accuracy\n",
        "from fastai.torch_core import *\n",
        "from fastai.vision import *\n",
        "fastai.__version__"
      ],
      "execution_count": null,
      "outputs": []
    },
    {
      "cell_type": "code",
      "metadata": {
        "id": "b-Q-QC8cYFUp",
        "colab_type": "code",
        "colab": {}
      },
      "source": [
        "from fastai import *"
      ],
      "execution_count": null,
      "outputs": []
    },
    {
      "cell_type": "code",
      "metadata": {
        "id": "2Io8TYRXYLlJ",
        "colab_type": "code",
        "colab": {}
      },
      "source": [
        "from audio import *  \n",
        "from fastai.basics import *"
      ],
      "execution_count": null,
      "outputs": []
    },
    {
      "cell_type": "code",
      "metadata": {
        "id": "-ISGqc-s_lqb",
        "colab_type": "code",
        "colab": {}
      },
      "source": [
        "# Loading the Dataset.\n",
        "train_dataset_path = Path('/content/drive/My Drive/ADReSS-IS2020-data/train/Full_wave_enhanced_audio')\n",
        "control_path = dataset_path/'control'\n",
        "dementia_path = dataset_path/'Dementia'\n"
      ],
      "execution_count": null,
      "outputs": []
    },
    {
      "cell_type": "markdown",
      "metadata": {
        "id": "gS--AdiyxYv2",
        "colab_type": "text"
      },
      "source": [
        "**Pre-Processing**"
      ]
    },
    {
      "cell_type": "code",
      "metadata": {
        "id": "Ge0Kdjl5d7vn",
        "colab_type": "code",
        "colab": {}
      },
      "source": [
        "# Sorting the data into two classes (Control and Dementia)\n",
        "label_pat = r'/(control|Dementia)' "
      ],
      "execution_count": null,
      "outputs": []
    },
    {
      "cell_type": "code",
      "metadata": {
        "id": "pmfY6BujmB__",
        "colab_type": "code",
        "colab": {}
      },
      "source": [
        "# Test Data Directory where test audio is stored\n",
        "Test_data_directory = '/content/drive/My Drive/ADReSS-IS2020-data/train/test_cd'"
      ],
      "execution_count": null,
      "outputs": []
    },
    {
      "cell_type": "code",
      "metadata": {
        "id": "IxgZ8gpSF-YW",
        "colab_type": "code",
        "colab": {}
      },
      "source": [
        "# Speech Augmentation on Training Data.\n",
        "config_Train = AudioConfig()\n",
        "config_Train.downmix = True # Converting into Mono audio.\n",
        "config_Train.resample_to = 44100 # Resample the audio in a particular sampling rate.\n",
        "config_Train.segment_size = 60000 # Restricting the audio length to 60sec.\n",
        "config_Train.f_max = 22050 \n",
        "config_Train.cache = False\n",
        "config_Train.max_to_pad = 60000 # If the audio length is not 60sec then pad the audio so that length become 60sec.\n",
        "config_Train.cache = False"
      ],
      "execution_count": null,
      "outputs": []
    },
    {
      "cell_type": "code",
      "metadata": {
        "id": "zUwPR0McbM64",
        "colab_type": "code",
        "colab": {}
      },
      "source": [
        "# Converting the training audio according to the augmentation need.\n",
        "audio_data = AudioList.from_folder(path=dataset_path, config = config_Train).split_by_rand_pct(.2, seed=4).label_from_re(label_pat).databunch(bs=8)"
      ],
      "execution_count": null,
      "outputs": []
    },
    {
      "cell_type": "code",
      "metadata": {
        "id": "chFyMTIRjPhe",
        "colab_type": "code",
        "colab": {}
      },
      "source": [
        ""
      ],
      "execution_count": null,
      "outputs": []
    },
    {
      "cell_type": "code",
      "metadata": {
        "id": "2Xg2w0S5jTUr",
        "colab_type": "code",
        "colab": {}
      },
      "source": [
        "# Speech Augmentation on Test Data.\n",
        "config_Test = AudioConfig()\n",
        "config_Test.downmix = True # Converting the audio into Mono tone.\n",
        "config_Test.resample_to = 44100 # Resample the audio in a particular sampling rate(44100)\n",
        "config_Test.max_to_pad = 60000 # If the audio length is not 60sec then pad the audio so that length become 60sec.\n",
        "config_Test.segment_size = 60000 # Restricting the audio length to 60sec."
      ],
      "execution_count": null,
      "outputs": []
    },
    {
      "cell_type": "code",
      "metadata": {
        "id": "4gZ3msH7idut",
        "colab_type": "code",
        "colab": {}
      },
      "source": [
        "# Converting the test data according to the augmentation need.\n",
        "test_data = AudioList.from_folder(path = Test_data_directory, config = config_Test )"
      ],
      "execution_count": null,
      "outputs": []
    },
    {
      "cell_type": "code",
      "metadata": {
        "id": "b0P75JNoi9ok",
        "colab_type": "code",
        "colab": {}
      },
      "source": [
        "test_data"
      ],
      "execution_count": null,
      "outputs": []
    },
    {
      "cell_type": "code",
      "metadata": {
        "id": "Arz92j2D_tld",
        "colab_type": "code",
        "colab": {}
      },
      "source": [
        "# Adding the test data to training set.\n",
        "# Here the label of test data is set to None.\n",
        "audio_data.add_test(test_data)"
      ],
      "execution_count": null,
      "outputs": []
    },
    {
      "cell_type": "code",
      "metadata": {
        "id": "vS665pJu_0MQ",
        "colab_type": "code",
        "colab": {}
      },
      "source": [
        "# Overview \n",
        "audio_data"
      ],
      "execution_count": null,
      "outputs": []
    },
    {
      "cell_type": "markdown",
      "metadata": {
        "id": "nqwQw97v0bs9",
        "colab_type": "text"
      },
      "source": [
        "**Initialise the Deep Learning Model**"
      ]
    },
    {
      "cell_type": "code",
      "metadata": {
        "id": "IxZOohPaidkR",
        "colab_type": "code",
        "colab": {}
      },
      "source": [
        "# Initialize GPU for processing.\n",
        "audio_data.device = torch.device('cuda')"
      ],
      "execution_count": null,
      "outputs": []
    },
    {
      "cell_type": "code",
      "metadata": {
        "id": "bQCU_qrYgdtj",
        "colab_type": "code",
        "colab": {}
      },
      "source": [
        "# Fitting the audio data to the model.\n",
        "# Here we are using Resenet18 pre-trained model for classification.\n",
        "learner = audio_learner(audio_data)"
      ],
      "execution_count": null,
      "outputs": []
    },
    {
      "cell_type": "markdown",
      "metadata": {
        "id": "8dLHWzmo099s",
        "colab_type": "text"
      },
      "source": [
        "**Fits the model**"
      ]
    },
    {
      "cell_type": "code",
      "metadata": {
        "id": "UsQSfbLEjolQ",
        "colab_type": "code",
        "colab": {}
      },
      "source": [
        "# Model processing.\n",
        "learner.fit_one_cycle(1)"
      ],
      "execution_count": null,
      "outputs": []
    },
    {
      "cell_type": "markdown",
      "metadata": {
        "id": "dTUB8haX1Rno",
        "colab_type": "text"
      },
      "source": [
        "**Prediction**"
      ]
    },
    {
      "cell_type": "code",
      "metadata": {
        "id": "-06Kw48QBOSr",
        "colab_type": "code",
        "colab": {}
      },
      "source": [
        "# Getting the class of test data.\n",
        "# Here 0.0: There are no symptoms of Dementia in the audio.\n",
        "# Here 1.0: Audio shows the symptoms of Dementia.\n",
        "classes = learner.validate(audio_data.test_dl)"
      ],
      "execution_count": null,
      "outputs": []
    },
    {
      "cell_type": "code",
      "metadata": {
        "id": "jxqu0uMGwdoQ",
        "colab_type": "code",
        "colab": {}
      },
      "source": [
        "result = (classes[0].astype(int))*100"
      ],
      "execution_count": null,
      "outputs": []
    },
    {
      "cell_type": "code",
      "metadata": {
        "id": "OdBq-qEqwsnX",
        "colab_type": "code",
        "colab": {}
      },
      "source": [
        "if result == 0:\n",
        "  print(\"The audio shows the symptoms of Dementia\")\n",
        "else:\n",
        "  print(\"The audio does not show the symptoms of Dementia\")"
      ],
      "execution_count": null,
      "outputs": []
    }
  ]
}